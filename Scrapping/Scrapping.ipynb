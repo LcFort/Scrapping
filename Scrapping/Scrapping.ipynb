{
 "cells": [
  {
   "cell_type": "code",
   "execution_count": null,
   "metadata": {},
   "outputs": [],
   "source": [
    "from selenium import webdriver\n",
    "from selenium.webdriver.common.by import By\n",
    "from selenium.webdriver.support.ui import Select\n",
    "from selenium.webdriver.common.keys import Keys\n",
    "from selenium.webdriver.support.wait import WebDriverWait\n",
    "from selenium.webdriver.support import expected_conditions as EC"
   ]
  },
  {
   "cell_type": "code",
   "execution_count": null,
   "metadata": {},
   "outputs": [],
   "source": [
    "driver = webdriver.Chrome()"
   ]
  },
  {
   "cell_type": "code",
   "execution_count": null,
   "metadata": {},
   "outputs": [],
   "source": [
    "link = 'https://www.netshoes.com.br/busca?nsCat=Artificial&q=suplementos&searchTermCapitalized=Suplementos'\n",
    "\n",
    "driver.get(link)"
   ]
  },
  {
   "cell_type": "code",
   "execution_count": null,
   "metadata": {},
   "outputs": [],
   "source": [
    "Path ='//*[@id=\"item-list\"]/div[1]/a[1]/div/div[2]/section/div[1]/div/span/span[2]/span[1]'\n",
    "List = []\n",
    "for i in range(0,12):\n",
    "    x = driver.find_element(By.XPATH, f'//*[@id=\"item-list\"]/div[1]/a[{i+1}]/div/div[2]/section/div[1]/div/span/span[2]/span[1]')\n",
    "    List.append(x.text)"
   ]
  },
  {
   "cell_type": "code",
   "execution_count": null,
   "metadata": {},
   "outputs": [
    {
     "data": {
      "text/plain": [
       "['139,99', '69,90', '59,90', '93,90', '', '', '', '', '', '', '', '']"
      ]
     },
     "metadata": {},
     "output_type": "display_data"
    }
   ],
   "source": [
    "List"
   ]
  },
  {
   "cell_type": "code",
   "execution_count": null,
   "metadata": {},
   "outputs": [],
   "source": [
    "Path2 = '//*[@id=\"item-list\"]/div[1]/a[1]/div/div[2]'"
   ]
  },
  {
   "cell_type": "code",
   "execution_count": null,
   "metadata": {},
   "outputs": [],
   "source": [
    "# for i in range(len())\n",
    "Lista2 = [driver.find_element(By.XPATH, f'//*[@id=\"item-list\"]/div[1]/a[{i+1}]/div/div[2]').text for i in range(0,32)]"
   ]
  },
  {
   "cell_type": "code",
   "execution_count": null,
   "metadata": {},
   "outputs": [
    {
     "data": {
      "text/plain": [
       "['Kit 2x Whey Protein Isolado Iso Blend Complex 2Kg - ...\\n4\\nFRETE GRÁTIS\\nR$ 679,99\\nR$ 139,99\\nou 2x de R$ 70,00\\n-79% OFF',\n",
       " 'Creatina Monohidratada 250g - 100% Pura Importada - ...\\n4.5\\nR$ 69,90',\n",
       " 'Pre Treino Horus Pre-workout 150g Citrus Max Titanium\\n4.5\\nR$ 68,90\\nR$ 59,90\\n-13% OFF',\n",
       " 'Whey 100% Hd Refil 900g Black Skull\\n4.5\\nR$ 100,00\\nR$ 93,90\\n-6% OFF',\n",
       " 'Pré-Treino 4 Pump 250g - XPRO Nutrition',\n",
       " 'Creatine Turbo 300g Black Skull\\n4.5',\n",
       " 'Whey Protein Concentrado 1kg - Chocolate - Importado - ...\\n5',\n",
       " 'Pré-Treino Flames 200g - Soldiers Nutrition',\n",
       " 'Whey 100% Hd Refil 900g Black Skull\\n4.5',\n",
       " 'Creatina 100% Pura Monoidratada 300g Dark Lab\\n4.5',\n",
       " 'Amino Bcaa 2044mg 90 Caps Integralmedica\\n4.5',\n",
       " 'L-G Glutamina 300g Max Titanium\\n5',\n",
       " 'Creatina 300g Integralmedica\\n5',\n",
       " 'Kit Whey Protein Isolado Fusion + Bcaa + Creatina ...\\n4.5',\n",
       " 'Creatina Monohidratada 100% Turbo 300g Bulk Nutrition - Kit ...\\n4.5',\n",
       " 'Creatina Monohidratada 100% Pura 1kg - Espartanos\\n4.5',\n",
       " 'Creatina Monohidratada 500g - 100% Pura Importada - ...\\n5',\n",
       " 'Kit Whey Protein Isolado Fusion + Bcaa + Creatina ...\\n4.5',\n",
       " 'Creatina Reload Hardcore 120 Cáps - IntegralMédica\\n4.5',\n",
       " 'Suplementos em Gel Energy Gel Z2 Z2+ Z2n Vários Sabores 2 ...',\n",
       " 'Suplementos em Gel Energy Gel Z2 Z2+ Z2n Vários Sabores 4 ...',\n",
       " 'Suplementos em Gel Energy Gel Z2 Z2+ Z2n Vários Sabores 2 ...',\n",
       " 'Suplementos em Gel Energy Gel Z2 Z2+ Z2n Vários Sabores 2 ...',\n",
       " 'Suplementos Testrol Cycle Time Testofen 60 Caps Demons Lab',\n",
       " 'Suplementos em Gel Energy Gel Z2 Z2+ Z2n Vários Sabores 4 ...',\n",
       " 'Suplementos Vitasoft Immune 550MG - 30Cap',\n",
       " 'Suplementos em Gel Energy Gel Z2 Z2+ Z2n Vários Sabores 2 ...',\n",
       " 'Suplementos Supra Omega 3 TG + VIT. E 1,2GR - 150Cap',\n",
       " 'Suplementos Fitness de Qualidade: Whey Pro 1kg, Argipure ...',\n",
       " 'Suplementos Semente Abobora 1000MG - 80Cap',\n",
       " 'Suplementos Fitness de Qualidade: Whey Pro 1kg, Argipure ...',\n",
       " 'Suplementos Vitasoft 400MG - 60Cap']"
      ]
     },
     "metadata": {},
     "output_type": "display_data"
    }
   ],
   "source": [
    "Lista2"
   ]
  },
  {
   "cell_type": "code",
   "execution_count": null,
   "metadata": {},
   "outputs": [],
   "source": [
    "driver.execute_script(\"window.scrollTo(0, document.body.scrollHeight);\")"
   ]
  },
  {
   "cell_type": "code",
   "execution_count": null,
   "metadata": {},
   "outputs": [],
   "source": [
    "t = driver.execute_script('''return document.body.scrollHeight''')"
   ]
  },
  {
   "cell_type": "code",
   "execution_count": null,
   "metadata": {},
   "outputs": [
    {
     "data": {
      "text/plain": [
       "12045"
      ]
     },
     "metadata": {},
     "output_type": "display_data"
    }
   ],
   "source": [
    "t"
   ]
  },
  {
   "cell_type": "code",
   "execution_count": null,
   "metadata": {},
   "outputs": [],
   "source": [
    "Itens = driver.find_element(By.XPATH,'//*[@id=\"content\"]/section/section[2]/div[1]/span').text"
   ]
  },
  {
   "cell_type": "code",
   "execution_count": null,
   "metadata": {},
   "outputs": [],
   "source": [
    "Vezes = Itens[Itens.find(':')+2:Itens.find('de')-1]\n",
    "Vezes = [int(Vezes[:Vezes.find('-')]), int(Vezes[Vezes.find('-')+2:])]"
   ]
  },
  {
   "cell_type": "code",
   "execution_count": null,
   "metadata": {},
   "outputs": [
    {
     "data": {
      "text/plain": [
       "[1, 42]"
      ]
     },
     "metadata": {},
     "output_type": "display_data"
    }
   ],
   "source": [
    "Vezes"
   ]
  },
  {
   "cell_type": "code",
   "execution_count": null,
   "metadata": {},
   "outputs": [],
   "source": [
    "# vezes = t/400\n",
    "List = []\n",
    "# wait = WebDriverWait(driver, 10)\n",
    "# M=1\n",
    "\n",
    "# for i in range(int(vezes)):\n",
    "#     driver.execute_script(f\"window.scrollTo({400*i}, {400*(i+1)});\")\n",
    "#     for F in range(9):\n",
    "#         try:\n",
    "#             element = wait.until(EC.presence_of_element_located((By.XPATH, f'//*[@id=\"item-list\"]/div[1]/a[{M}]')))\n",
    "#             List.append(driver.find_element(By.XPATH, f'//*[@id=\"item-list\"]/div[1]/a[{M}]').text)\n",
    "#         except:\n",
    "#             print(f'vez {i} item {(F*(i+1))+1} '+'Verifique o resultado\\n\\n')\n",
    "                      \n",
    "#         M += 1\n",
    "        \n",
    "#         if M > Vezes[1]:\n",
    "#             break"
   ]
  },
  {
   "cell_type": "code",
   "execution_count": null,
   "metadata": {},
   "outputs": [
    {
     "data": {
      "text/plain": [
       "[]"
      ]
     },
     "metadata": {},
     "output_type": "display_data"
    }
   ],
   "source": [
    "List"
   ]
  },
  {
   "cell_type": "code",
   "execution_count": null,
   "metadata": {},
   "outputs": [],
   "source": [
    "# S = []\n",
    "# a = [List.pop(List[0])]\n"
   ]
  },
  {
   "cell_type": "code",
   "execution_count": null,
   "metadata": {},
   "outputs": [],
   "source": [
    "myset = list(set(List))"
   ]
  },
  {
   "cell_type": "code",
   "execution_count": null,
   "metadata": {},
   "outputs": [
    {
     "data": {
      "text/plain": [
       "0"
      ]
     },
     "metadata": {},
     "output_type": "display_data"
    }
   ],
   "source": [
    "len(List)"
   ]
  },
  {
   "cell_type": "code",
   "execution_count": null,
   "metadata": {},
   "outputs": [
    {
     "name": "stdout",
     "output_type": "stream",
     "text": [
      "1\n",
      "2\n",
      "3\n",
      "4\n",
      "5\n",
      "6\n",
      "7\n",
      "8\n",
      "9\n",
      "10\n",
      "11\n",
      "12\n",
      "13\n",
      "14\n",
      "15\n",
      "16\n",
      "17\n",
      "18\n",
      "19\n",
      "20\n",
      "21\n",
      "22\n",
      "23\n",
      "24\n",
      "25\n",
      "26\n",
      "27\n",
      "28\n",
      "29\n",
      "30\n",
      "31\n",
      "32\n",
      "33\n",
      "34\n",
      "35\n",
      "36\n",
      "37\n",
      "38\n",
      "39\n",
      "40\n",
      "41\n",
      "42\n",
      "43\n",
      "44\n",
      "45\n",
      "46\n",
      "47\n",
      "48\n",
      "49\n",
      "50\n",
      "51\n",
      "52\n",
      "53\n",
      "54\n",
      "55\n",
      "56\n",
      "57\n",
      "58\n",
      "59\n",
      "60\n",
      "61\n",
      "62\n",
      "63\n",
      "64\n",
      "65\n",
      "66\n",
      "67\n",
      "68\n",
      "69\n",
      "70\n",
      "71\n",
      "72\n",
      "73\n",
      "74\n",
      "75\n",
      "76\n",
      "77\n",
      "78\n",
      "79\n",
      "80\n",
      "81\n",
      "82\n",
      "83\n",
      "84\n",
      "85\n",
      "86\n",
      "87\n",
      "88\n",
      "89\n",
      "90\n",
      "91\n",
      "92\n",
      "93\n",
      "94\n",
      "95\n",
      "96\n",
      "97\n",
      "98\n",
      "99\n",
      "100\n",
      "101\n",
      "102\n",
      "103\n",
      "104\n"
     ]
    },
    {
     "ename": "TimeoutException",
     "evalue": "Message: \nStacktrace:\n\tGetHandleVerifier [0x00007FF63F5D7892+54818]\n\t(No symbol) [0x00007FF63F546AC2]\n\t(No symbol) [0x00007FF63F3FDA3B]\n\t(No symbol) [0x00007FF63F43E4FC]\n\t(No symbol) [0x00007FF63F43E67C]\n\t(No symbol) [0x00007FF63F479627]\n\t(No symbol) [0x00007FF63F45EAEF]\n\t(No symbol) [0x00007FF63F4775A2]\n\t(No symbol) [0x00007FF63F45E883]\n\t(No symbol) [0x00007FF63F433691]\n\t(No symbol) [0x00007FF63F4348D4]\n\tGetHandleVerifier [0x00007FF63F93B992+3610402]\n\tGetHandleVerifier [0x00007FF63F991860+3962352]\n\tGetHandleVerifier [0x00007FF63F989D4F+3930847]\n\tGetHandleVerifier [0x00007FF63F673646+693206]\n\t(No symbol) [0x00007FF63F551628]\n\t(No symbol) [0x00007FF63F54D934]\n\t(No symbol) [0x00007FF63F54DA62]\n\t(No symbol) [0x00007FF63F53E113]\n\tBaseThreadInitThunk [0x00007FFEF495257D+29]\n\tRtlUserThreadStart [0x00007FFEF5EEAA68+40]\n",
     "output_type": "error",
     "traceback": [
      "\u001b[1;31m---------------------------------------------------------------------------\u001b[0m\n",
      "\u001b[1;31mTimeoutException\u001b[0m                          Traceback (most recent call last)\n",
      "\u001b[1;32mc:\\Users\\lucas\\OneDrive - Universidade Federal do Rio de Janeiro\\Python ABSURDOS\\Scrapping\\Scrapping_Linkedin.ipynb Cell 20\u001b[0m line \u001b[0;36m2\n",
      "\u001b[0;32m     <a href='vscode-notebook-cell:/c%3A/Users/lucas/OneDrive%20-%20Universidade%20Federal%20do%20Rio%20de%20Janeiro/Python%20ABSURDOS/Scrapping/Scrapping_Linkedin.ipynb#X25sZmlsZQ%3D%3D?line=17'>18</a>\u001b[0m \u001b[39mfor\u001b[39;00m i \u001b[39min\u001b[39;00m \u001b[39mrange\u001b[39m(\u001b[39mint\u001b[39m(vezes)):\n",
      "\u001b[0;32m     <a href='vscode-notebook-cell:/c%3A/Users/lucas/OneDrive%20-%20Universidade%20Federal%20do%20Rio%20de%20Janeiro/Python%20ABSURDOS/Scrapping/Scrapping_Linkedin.ipynb#X25sZmlsZQ%3D%3D?line=18'>19</a>\u001b[0m     driver\u001b[39m.\u001b[39mexecute_script(\u001b[39mf\u001b[39m\u001b[39m\"\u001b[39m\u001b[39mwindow.scrollTo(\u001b[39m\u001b[39m{\u001b[39;00m\u001b[39m400\u001b[39m\u001b[39m*\u001b[39mi\u001b[39m}\u001b[39;00m\u001b[39m, \u001b[39m\u001b[39m{\u001b[39;00m\u001b[39m400\u001b[39m\u001b[39m*\u001b[39m(i\u001b[39m+\u001b[39m\u001b[39m1\u001b[39m)\u001b[39m}\u001b[39;00m\u001b[39m);\u001b[39m\u001b[39m\"\u001b[39m)\n",
      "\u001b[1;32m---> <a href='vscode-notebook-cell:/c%3A/Users/lucas/OneDrive%20-%20Universidade%20Federal%20do%20Rio%20de%20Janeiro/Python%20ABSURDOS/Scrapping/Scrapping_Linkedin.ipynb#X25sZmlsZQ%3D%3D?line=20'>21</a>\u001b[0m element \u001b[39m=\u001b[39m wait\u001b[39m.\u001b[39;49muntil(EC\u001b[39m.\u001b[39;49mpresence_of_element_located((By\u001b[39m.\u001b[39;49mCLASS_NAME, \u001b[39m'\u001b[39;49m\u001b[39mitem-card__description\u001b[39;49m\u001b[39m'\u001b[39;49m)))\n",
      "\u001b[0;32m     <a href='vscode-notebook-cell:/c%3A/Users/lucas/OneDrive%20-%20Universidade%20Federal%20do%20Rio%20de%20Janeiro/Python%20ABSURDOS/Scrapping/Scrapping_Linkedin.ipynb#X25sZmlsZQ%3D%3D?line=21'>22</a>\u001b[0m elementos \u001b[39m=\u001b[39m driver\u001b[39m.\u001b[39mfind_elements(By\u001b[39m.\u001b[39mCLASS_NAME, \u001b[39m\"\u001b[39m\u001b[39mitem-card__description\u001b[39m\u001b[39m\"\u001b[39m)\n",
      "\u001b[0;32m     <a href='vscode-notebook-cell:/c%3A/Users/lucas/OneDrive%20-%20Universidade%20Federal%20do%20Rio%20de%20Janeiro/Python%20ABSURDOS/Scrapping/Scrapping_Linkedin.ipynb#X25sZmlsZQ%3D%3D?line=22'>23</a>\u001b[0m \u001b[39mfor\u001b[39;00m i \u001b[39min\u001b[39;00m elementos:\n",
      "\n",
      "File \u001b[1;32mc:\\Users\\lucas\\AppData\\Local\\Programs\\Python\\Python311\\Lib\\site-packages\\selenium\\webdriver\\support\\wait.py:95\u001b[0m, in \u001b[0;36mWebDriverWait.until\u001b[1;34m(self, method, message)\u001b[0m\n",
      "\u001b[0;32m     93\u001b[0m     \u001b[39mif\u001b[39;00m time\u001b[39m.\u001b[39mmonotonic() \u001b[39m>\u001b[39m end_time:\n",
      "\u001b[0;32m     94\u001b[0m         \u001b[39mbreak\u001b[39;00m\n",
      "\u001b[1;32m---> 95\u001b[0m \u001b[39mraise\u001b[39;00m TimeoutException(message, screen, stacktrace)\n",
      "\n",
      "\u001b[1;31mTimeoutException\u001b[0m: Message: \n",
      "Stacktrace:\n",
      "\tGetHandleVerifier [0x00007FF63F5D7892+54818]\n",
      "\t(No symbol) [0x00007FF63F546AC2]\n",
      "\t(No symbol) [0x00007FF63F3FDA3B]\n",
      "\t(No symbol) [0x00007FF63F43E4FC]\n",
      "\t(No symbol) [0x00007FF63F43E67C]\n",
      "\t(No symbol) [0x00007FF63F479627]\n",
      "\t(No symbol) [0x00007FF63F45EAEF]\n",
      "\t(No symbol) [0x00007FF63F4775A2]\n",
      "\t(No symbol) [0x00007FF63F45E883]\n",
      "\t(No symbol) [0x00007FF63F433691]\n",
      "\t(No symbol) [0x00007FF63F4348D4]\n",
      "\tGetHandleVerifier [0x00007FF63F93B992+3610402]\n",
      "\tGetHandleVerifier [0x00007FF63F991860+3962352]\n",
      "\tGetHandleVerifier [0x00007FF63F989D4F+3930847]\n",
      "\tGetHandleVerifier [0x00007FF63F673646+693206]\n",
      "\t(No symbol) [0x00007FF63F551628]\n",
      "\t(No symbol) [0x00007FF63F54D934]\n",
      "\t(No symbol) [0x00007FF63F54DA62]\n",
      "\t(No symbol) [0x00007FF63F53E113]\n",
      "\tBaseThreadInitThunk [0x00007FFEF495257D+29]\n",
      "\tRtlUserThreadStart [0x00007FFEF5EEAA68+40]\n"
     ]
    }
   ],
   "source": [
    "try:\n",
    "    driver.get('https://www.netshoes.com.br/busca?nsCat=Artificial&q=suplementos&searchTermCapitalized=Suplementos&page=1')\n",
    "except:\n",
    "    pass\n",
    "\n",
    "t = driver.execute_script('''return document.body.scrollHeight''')\n",
    "vezes = int(t)/400\n",
    "List = []\n",
    "ListaF = []\n",
    "PgMAX = int(driver.find_element(By.XPATH, '//*[@id=\"item-list\"]/div[2]').find_element(By.CLASS_NAME, 'last').text)\n",
    "wait = WebDriverWait(driver, 10)\n",
    "\n",
    "\n",
    "\n",
    "for _ in range(PgMAX):\n",
    "    driver.get(f'https://www.netshoes.com.br/busca?nsCat=Artificial&q=suplementos&searchTermCapitalized=Suplementos&page={_+1}')\n",
    "    \n",
    "    for i in range(int(vezes)):\n",
    "        driver.execute_script(f\"window.scrollTo({400*i}, {400*(i+1)});\")\n",
    "        \n",
    "    element = wait.until(EC.presence_of_element_located((By.CLASS_NAME, 'item-card__description')))\n",
    "    elementos = driver.find_elements(By.CLASS_NAME, \"item-card__description\")\n",
    "    for i in elementos:\n",
    "        element = wait.until(EC.presence_of_element_located((By.CLASS_NAME, 'price__list')))\n",
    "        # x = i.find_element(By.CLASS_NAME, 'price__list').text\n",
    "        x = i.find_element(By.CLASS_NAME, 'haveInstallments').text\n",
    "        y = i.find_element(By.CLASS_NAME, 'item-card__description__product-name').text\n",
    "        if x != \"\":\n",
    "            List.append([_, y, x])\n",
    "        \n",
    "    #ListaF.append([_, [i for i in List if i != \"\"]])\n",
    "    # ProxPG = driver.find_element(By.XPATH,'//*[@id=\"item-list\"]/div[2]').find_element(By.CLASS_NAME, 'ns-icon ns-icon-arrow-right last next')\n",
    "    # ProxPG = driver.find_element(By.XPATH, '//*[@id=\"item-list\"]/div[2]/a[6]')\n",
    "    Atual = driver.find_element(By.CLASS_NAME, 'selected').text\n",
    "    # print(ProxPG.text, PgMAX, Atual.text)\n",
    "    print(Atual)\n",
    "    # //a[@class='ns-icon ns-icon-arrow-right last next'] \n",
    "    # //span[@class='full-mounted-price']\n",
    "\n"
   ]
  },
  {
   "cell_type": "code",
   "execution_count": null,
   "metadata": {},
   "outputs": [],
   "source": [
    "import pandas as pd\n",
    "asd = ListaF\n",
    "pd.DataFrame(ListaF).to_csv('Kind of Preços.csv')"
   ]
  },
  {
   "cell_type": "code",
   "execution_count": null,
   "metadata": {},
   "outputs": [
    {
     "ename": "NoSuchElementException",
     "evalue": "Message: no such element: Unable to locate element: {\"method\":\"css selector\",\"selector\":\".ns-icon ns-icon-arrow-right last next\"}\n  (Session info: chrome=117.0.5938.92); For documentation on this error, please visit: https://www.selenium.dev/documentation/webdriver/troubleshooting/errors#no-such-element-exception\nStacktrace:\n\tGetHandleVerifier [0x00007FF63F5D7892+54818]\n\t(No symbol) [0x00007FF63F546AC2]\n\t(No symbol) [0x00007FF63F3FDA3B]\n\t(No symbol) [0x00007FF63F43E4FC]\n\t(No symbol) [0x00007FF63F43E67C]\n\t(No symbol) [0x00007FF63F4350FC]\n\t(No symbol) [0x00007FF63F45EAEF]\n\t(No symbol) [0x00007FF63F435036]\n\t(No symbol) [0x00007FF63F45ECC0]\n\t(No symbol) [0x00007FF63F4775A2]\n\t(No symbol) [0x00007FF63F45E883]\n\t(No symbol) [0x00007FF63F433691]\n\t(No symbol) [0x00007FF63F4348D4]\n\tGetHandleVerifier [0x00007FF63F93B992+3610402]\n\tGetHandleVerifier [0x00007FF63F991860+3962352]\n\tGetHandleVerifier [0x00007FF63F989D4F+3930847]\n\tGetHandleVerifier [0x00007FF63F673646+693206]\n\t(No symbol) [0x00007FF63F551628]\n\t(No symbol) [0x00007FF63F54D934]\n\t(No symbol) [0x00007FF63F54DA62]\n\t(No symbol) [0x00007FF63F53E113]\n\tBaseThreadInitThunk [0x00007FFEF495257D+29]\n\tRtlUserThreadStart [0x00007FFEF5EEAA68+40]\n",
     "output_type": "error",
     "traceback": [
      "\u001b[1;31m---------------------------------------------------------------------------\u001b[0m\n",
      "\u001b[1;31mNoSuchElementException\u001b[0m                    Traceback (most recent call last)\n",
      "\u001b[1;32mc:\\Users\\lucas\\OneDrive - Universidade Federal do Rio de Janeiro\\Python ABSURDOS\\Scrapping\\Scrapping_Linkedin.ipynb Cell 22\u001b[0m line \u001b[0;36m8\n",
      "\u001b[0;32m      <a href='vscode-notebook-cell:/c%3A/Users/lucas/OneDrive%20-%20Universidade%20Federal%20do%20Rio%20de%20Janeiro/Python%20ABSURDOS/Scrapping/Scrapping_Linkedin.ipynb#X26sZmlsZQ%3D%3D?line=5'>6</a>\u001b[0m y \u001b[39m=\u001b[39m driver\u001b[39m.\u001b[39mfind_elements(By\u001b[39m.\u001b[39mTAG_NAME, \u001b[39m'\u001b[39m\u001b[39ma\u001b[39m\u001b[39m'\u001b[39m)\n",
      "\u001b[0;32m      <a href='vscode-notebook-cell:/c%3A/Users/lucas/OneDrive%20-%20Universidade%20Federal%20do%20Rio%20de%20Janeiro/Python%20ABSURDOS/Scrapping/Scrapping_Linkedin.ipynb#X26sZmlsZQ%3D%3D?line=6'>7</a>\u001b[0m \u001b[39mfor\u001b[39;00m i \u001b[39min\u001b[39;00m y:\n",
      "\u001b[1;32m----> <a href='vscode-notebook-cell:/c%3A/Users/lucas/OneDrive%20-%20Universidade%20Federal%20do%20Rio%20de%20Janeiro/Python%20ABSURDOS/Scrapping/Scrapping_Linkedin.ipynb#X26sZmlsZQ%3D%3D?line=7'>8</a>\u001b[0m     x \u001b[39m=\u001b[39m i\u001b[39m.\u001b[39;49mfind_element(By\u001b[39m.\u001b[39;49mCLASS_NAME, \u001b[39m'\u001b[39;49m\u001b[39mns-icon ns-icon-arrow-right last next\u001b[39;49m\u001b[39m'\u001b[39;49m)\u001b[39m.\u001b[39mtext\n",
      "\u001b[0;32m      <a href='vscode-notebook-cell:/c%3A/Users/lucas/OneDrive%20-%20Universidade%20Federal%20do%20Rio%20de%20Janeiro/Python%20ABSURDOS/Scrapping/Scrapping_Linkedin.ipynb#X26sZmlsZQ%3D%3D?line=8'>9</a>\u001b[0m     \u001b[39mprint\u001b[39m(x)\n",
      "\n",
      "File \u001b[1;32mc:\\Users\\lucas\\AppData\\Local\\Programs\\Python\\Python311\\Lib\\site-packages\\selenium\\webdriver\\remote\\webelement.py:416\u001b[0m, in \u001b[0;36mWebElement.find_element\u001b[1;34m(self, by, value)\u001b[0m\n",
      "\u001b[0;32m    413\u001b[0m     by \u001b[39m=\u001b[39m By\u001b[39m.\u001b[39mCSS_SELECTOR\n",
      "\u001b[0;32m    414\u001b[0m     value \u001b[39m=\u001b[39m \u001b[39mf\u001b[39m\u001b[39m'\u001b[39m\u001b[39m[name=\u001b[39m\u001b[39m\"\u001b[39m\u001b[39m{\u001b[39;00mvalue\u001b[39m}\u001b[39;00m\u001b[39m\"\u001b[39m\u001b[39m]\u001b[39m\u001b[39m'\u001b[39m\n",
      "\u001b[1;32m--> 416\u001b[0m \u001b[39mreturn\u001b[39;00m \u001b[39mself\u001b[39;49m\u001b[39m.\u001b[39;49m_execute(Command\u001b[39m.\u001b[39;49mFIND_CHILD_ELEMENT, {\u001b[39m\"\u001b[39;49m\u001b[39musing\u001b[39;49m\u001b[39m\"\u001b[39;49m: by, \u001b[39m\"\u001b[39;49m\u001b[39mvalue\u001b[39;49m\u001b[39m\"\u001b[39;49m: value})[\u001b[39m\"\u001b[39m\u001b[39mvalue\u001b[39m\u001b[39m\"\u001b[39m]\n",
      "\n",
      "File \u001b[1;32mc:\\Users\\lucas\\AppData\\Local\\Programs\\Python\\Python311\\Lib\\site-packages\\selenium\\webdriver\\remote\\webelement.py:394\u001b[0m, in \u001b[0;36mWebElement._execute\u001b[1;34m(self, command, params)\u001b[0m\n",
      "\u001b[0;32m    392\u001b[0m     params \u001b[39m=\u001b[39m {}\n",
      "\u001b[0;32m    393\u001b[0m params[\u001b[39m\"\u001b[39m\u001b[39mid\u001b[39m\u001b[39m\"\u001b[39m] \u001b[39m=\u001b[39m \u001b[39mself\u001b[39m\u001b[39m.\u001b[39m_id\n",
      "\u001b[1;32m--> 394\u001b[0m \u001b[39mreturn\u001b[39;00m \u001b[39mself\u001b[39;49m\u001b[39m.\u001b[39;49m_parent\u001b[39m.\u001b[39;49mexecute(command, params)\n",
      "\n",
      "File \u001b[1;32mc:\\Users\\lucas\\AppData\\Local\\Programs\\Python\\Python311\\Lib\\site-packages\\selenium\\webdriver\\remote\\webdriver.py:344\u001b[0m, in \u001b[0;36mWebDriver.execute\u001b[1;34m(self, driver_command, params)\u001b[0m\n",
      "\u001b[0;32m    342\u001b[0m response \u001b[39m=\u001b[39m \u001b[39mself\u001b[39m\u001b[39m.\u001b[39mcommand_executor\u001b[39m.\u001b[39mexecute(driver_command, params)\n",
      "\u001b[0;32m    343\u001b[0m \u001b[39mif\u001b[39;00m response:\n",
      "\u001b[1;32m--> 344\u001b[0m     \u001b[39mself\u001b[39;49m\u001b[39m.\u001b[39;49merror_handler\u001b[39m.\u001b[39;49mcheck_response(response)\n",
      "\u001b[0;32m    345\u001b[0m     response[\u001b[39m\"\u001b[39m\u001b[39mvalue\u001b[39m\u001b[39m\"\u001b[39m] \u001b[39m=\u001b[39m \u001b[39mself\u001b[39m\u001b[39m.\u001b[39m_unwrap_value(response\u001b[39m.\u001b[39mget(\u001b[39m\"\u001b[39m\u001b[39mvalue\u001b[39m\u001b[39m\"\u001b[39m, \u001b[39mNone\u001b[39;00m))\n",
      "\u001b[0;32m    346\u001b[0m     \u001b[39mreturn\u001b[39;00m response\n",
      "\n",
      "File \u001b[1;32mc:\\Users\\lucas\\AppData\\Local\\Programs\\Python\\Python311\\Lib\\site-packages\\selenium\\webdriver\\remote\\errorhandler.py:229\u001b[0m, in \u001b[0;36mErrorHandler.check_response\u001b[1;34m(self, response)\u001b[0m\n",
      "\u001b[0;32m    227\u001b[0m         alert_text \u001b[39m=\u001b[39m value[\u001b[39m\"\u001b[39m\u001b[39malert\u001b[39m\u001b[39m\"\u001b[39m]\u001b[39m.\u001b[39mget(\u001b[39m\"\u001b[39m\u001b[39mtext\u001b[39m\u001b[39m\"\u001b[39m)\n",
      "\u001b[0;32m    228\u001b[0m     \u001b[39mraise\u001b[39;00m exception_class(message, screen, stacktrace, alert_text)  \u001b[39m# type: ignore[call-arg]  # mypy is not smart enough here\u001b[39;00m\n",
      "\u001b[1;32m--> 229\u001b[0m \u001b[39mraise\u001b[39;00m exception_class(message, screen, stacktrace)\n",
      "\n",
      "\u001b[1;31mNoSuchElementException\u001b[0m: Message: no such element: Unable to locate element: {\"method\":\"css selector\",\"selector\":\".ns-icon ns-icon-arrow-right last next\"}\n",
      "  (Session info: chrome=117.0.5938.92); For documentation on this error, please visit: https://www.selenium.dev/documentation/webdriver/troubleshooting/errors#no-such-element-exception\n",
      "Stacktrace:\n",
      "\tGetHandleVerifier [0x00007FF63F5D7892+54818]\n",
      "\t(No symbol) [0x00007FF63F546AC2]\n",
      "\t(No symbol) [0x00007FF63F3FDA3B]\n",
      "\t(No symbol) [0x00007FF63F43E4FC]\n",
      "\t(No symbol) [0x00007FF63F43E67C]\n",
      "\t(No symbol) [0x00007FF63F4350FC]\n",
      "\t(No symbol) [0x00007FF63F45EAEF]\n",
      "\t(No symbol) [0x00007FF63F435036]\n",
      "\t(No symbol) [0x00007FF63F45ECC0]\n",
      "\t(No symbol) [0x00007FF63F4775A2]\n",
      "\t(No symbol) [0x00007FF63F45E883]\n",
      "\t(No symbol) [0x00007FF63F433691]\n",
      "\t(No symbol) [0x00007FF63F4348D4]\n",
      "\tGetHandleVerifier [0x00007FF63F93B992+3610402]\n",
      "\tGetHandleVerifier [0x00007FF63F991860+3962352]\n",
      "\tGetHandleVerifier [0x00007FF63F989D4F+3930847]\n",
      "\tGetHandleVerifier [0x00007FF63F673646+693206]\n",
      "\t(No symbol) [0x00007FF63F551628]\n",
      "\t(No symbol) [0x00007FF63F54D934]\n",
      "\t(No symbol) [0x00007FF63F54DA62]\n",
      "\t(No symbol) [0x00007FF63F53E113]\n",
      "\tBaseThreadInitThunk [0x00007FFEF495257D+29]\n",
      "\tRtlUserThreadStart [0x00007FFEF5EEAA68+40]\n"
     ]
    }
   ],
   "source": [
    "ProxPG = driver.find_element(By.XPATH,\n",
    "                             '//*[@id=\"item-list\"]/div[2]')#.find_element(By.CLASS_NAME, \n",
    "                                                            #             value='ns-icon ns-icon-arrow-right last next')\n",
    "\n",
    "#print(ProxPG.find_element(By.TAG_NAME, 'a'))\n",
    "y = driver.find_elements(By.TAG_NAME, 'a')\n",
    "for i in y:\n",
    "    x = i.find_element(By.CLASS_NAME, 'ns-icon ns-icon-arrow-right last next').text\n",
    "    print(x)\n"
   ]
  },
  {
   "cell_type": "code",
   "execution_count": null,
   "metadata": {},
   "outputs": [
    {
     "ename": "NoSuchElementException",
     "evalue": "Message: no such element: Unable to locate element: {\"method\":\"css selector\",\"selector\":\".ns-icon ns-icon-arrow-right last next\"}\n  (Session info: chrome=117.0.5938.92); For documentation on this error, please visit: https://www.selenium.dev/documentation/webdriver/troubleshooting/errors#no-such-element-exception\nStacktrace:\n\tGetHandleVerifier [0x00007FF63F5D7892+54818]\n\t(No symbol) [0x00007FF63F546AC2]\n\t(No symbol) [0x00007FF63F3FDA3B]\n\t(No symbol) [0x00007FF63F43E4FC]\n\t(No symbol) [0x00007FF63F43E67C]\n\t(No symbol) [0x00007FF63F479627]\n\t(No symbol) [0x00007FF63F45EAEF]\n\t(No symbol) [0x00007FF63F4775A2]\n\t(No symbol) [0x00007FF63F45E883]\n\t(No symbol) [0x00007FF63F433691]\n\t(No symbol) [0x00007FF63F4348D4]\n\tGetHandleVerifier [0x00007FF63F93B992+3610402]\n\tGetHandleVerifier [0x00007FF63F991860+3962352]\n\tGetHandleVerifier [0x00007FF63F989D4F+3930847]\n\tGetHandleVerifier [0x00007FF63F673646+693206]\n\t(No symbol) [0x00007FF63F551628]\n\t(No symbol) [0x00007FF63F54D934]\n\t(No symbol) [0x00007FF63F54DA62]\n\t(No symbol) [0x00007FF63F53E113]\n\tBaseThreadInitThunk [0x00007FFEF495257D+29]\n\tRtlUserThreadStart [0x00007FFEF5EEAA68+40]\n",
     "output_type": "error",
     "traceback": [
      "\u001b[1;31m---------------------------------------------------------------------------\u001b[0m\n",
      "\u001b[1;31mNoSuchElementException\u001b[0m                    Traceback (most recent call last)\n",
      "\u001b[1;32mc:\\Users\\lucas\\OneDrive - Universidade Federal do Rio de Janeiro\\Python ABSURDOS\\Scrapping\\Scrapping_Linkedin.ipynb Cell 23\u001b[0m line \u001b[0;36m2\n",
      "\u001b[0;32m      <a href='vscode-notebook-cell:/c%3A/Users/lucas/OneDrive%20-%20Universidade%20Federal%20do%20Rio%20de%20Janeiro/Python%20ABSURDOS/Scrapping/Scrapping_Linkedin.ipynb#X35sZmlsZQ%3D%3D?line=0'>1</a>\u001b[0m driver\u001b[39m.\u001b[39mget(\u001b[39m'\u001b[39m\u001b[39mhttps://www.netshoes.com.br/busca?nsCat=Artificial&q=suplementos&searchTermCapitalized=Suplementos&page=1\u001b[39m\u001b[39m'\u001b[39m)\n",
      "\u001b[1;32m----> <a href='vscode-notebook-cell:/c%3A/Users/lucas/OneDrive%20-%20Universidade%20Federal%20do%20Rio%20de%20Janeiro/Python%20ABSURDOS/Scrapping/Scrapping_Linkedin.ipynb#X35sZmlsZQ%3D%3D?line=1'>2</a>\u001b[0m \u001b[39mprint\u001b[39m(driver\u001b[39m.\u001b[39;49mfind_element(By\u001b[39m.\u001b[39;49mCLASS_NAME, \u001b[39m'\u001b[39;49m\u001b[39mns-icon ns-icon-arrow-right last next\u001b[39;49m\u001b[39m'\u001b[39;49m)\u001b[39m.\u001b[39mtext)\n",
      "\n",
      "File \u001b[1;32mc:\\Users\\lucas\\AppData\\Local\\Programs\\Python\\Python311\\Lib\\site-packages\\selenium\\webdriver\\remote\\webdriver.py:738\u001b[0m, in \u001b[0;36mWebDriver.find_element\u001b[1;34m(self, by, value)\u001b[0m\n",
      "\u001b[0;32m    735\u001b[0m     by \u001b[39m=\u001b[39m By\u001b[39m.\u001b[39mCSS_SELECTOR\n",
      "\u001b[0;32m    736\u001b[0m     value \u001b[39m=\u001b[39m \u001b[39mf\u001b[39m\u001b[39m'\u001b[39m\u001b[39m[name=\u001b[39m\u001b[39m\"\u001b[39m\u001b[39m{\u001b[39;00mvalue\u001b[39m}\u001b[39;00m\u001b[39m\"\u001b[39m\u001b[39m]\u001b[39m\u001b[39m'\u001b[39m\n",
      "\u001b[1;32m--> 738\u001b[0m \u001b[39mreturn\u001b[39;00m \u001b[39mself\u001b[39;49m\u001b[39m.\u001b[39;49mexecute(Command\u001b[39m.\u001b[39;49mFIND_ELEMENT, {\u001b[39m\"\u001b[39;49m\u001b[39musing\u001b[39;49m\u001b[39m\"\u001b[39;49m: by, \u001b[39m\"\u001b[39;49m\u001b[39mvalue\u001b[39;49m\u001b[39m\"\u001b[39;49m: value})[\u001b[39m\"\u001b[39m\u001b[39mvalue\u001b[39m\u001b[39m\"\u001b[39m]\n",
      "\n",
      "File \u001b[1;32mc:\\Users\\lucas\\AppData\\Local\\Programs\\Python\\Python311\\Lib\\site-packages\\selenium\\webdriver\\remote\\webdriver.py:344\u001b[0m, in \u001b[0;36mWebDriver.execute\u001b[1;34m(self, driver_command, params)\u001b[0m\n",
      "\u001b[0;32m    342\u001b[0m response \u001b[39m=\u001b[39m \u001b[39mself\u001b[39m\u001b[39m.\u001b[39mcommand_executor\u001b[39m.\u001b[39mexecute(driver_command, params)\n",
      "\u001b[0;32m    343\u001b[0m \u001b[39mif\u001b[39;00m response:\n",
      "\u001b[1;32m--> 344\u001b[0m     \u001b[39mself\u001b[39;49m\u001b[39m.\u001b[39;49merror_handler\u001b[39m.\u001b[39;49mcheck_response(response)\n",
      "\u001b[0;32m    345\u001b[0m     response[\u001b[39m\"\u001b[39m\u001b[39mvalue\u001b[39m\u001b[39m\"\u001b[39m] \u001b[39m=\u001b[39m \u001b[39mself\u001b[39m\u001b[39m.\u001b[39m_unwrap_value(response\u001b[39m.\u001b[39mget(\u001b[39m\"\u001b[39m\u001b[39mvalue\u001b[39m\u001b[39m\"\u001b[39m, \u001b[39mNone\u001b[39;00m))\n",
      "\u001b[0;32m    346\u001b[0m     \u001b[39mreturn\u001b[39;00m response\n",
      "\n",
      "File \u001b[1;32mc:\\Users\\lucas\\AppData\\Local\\Programs\\Python\\Python311\\Lib\\site-packages\\selenium\\webdriver\\remote\\errorhandler.py:229\u001b[0m, in \u001b[0;36mErrorHandler.check_response\u001b[1;34m(self, response)\u001b[0m\n",
      "\u001b[0;32m    227\u001b[0m         alert_text \u001b[39m=\u001b[39m value[\u001b[39m\"\u001b[39m\u001b[39malert\u001b[39m\u001b[39m\"\u001b[39m]\u001b[39m.\u001b[39mget(\u001b[39m\"\u001b[39m\u001b[39mtext\u001b[39m\u001b[39m\"\u001b[39m)\n",
      "\u001b[0;32m    228\u001b[0m     \u001b[39mraise\u001b[39;00m exception_class(message, screen, stacktrace, alert_text)  \u001b[39m# type: ignore[call-arg]  # mypy is not smart enough here\u001b[39;00m\n",
      "\u001b[1;32m--> 229\u001b[0m \u001b[39mraise\u001b[39;00m exception_class(message, screen, stacktrace)\n",
      "\n",
      "\u001b[1;31mNoSuchElementException\u001b[0m: Message: no such element: Unable to locate element: {\"method\":\"css selector\",\"selector\":\".ns-icon ns-icon-arrow-right last next\"}\n",
      "  (Session info: chrome=117.0.5938.92); For documentation on this error, please visit: https://www.selenium.dev/documentation/webdriver/troubleshooting/errors#no-such-element-exception\n",
      "Stacktrace:\n",
      "\tGetHandleVerifier [0x00007FF63F5D7892+54818]\n",
      "\t(No symbol) [0x00007FF63F546AC2]\n",
      "\t(No symbol) [0x00007FF63F3FDA3B]\n",
      "\t(No symbol) [0x00007FF63F43E4FC]\n",
      "\t(No symbol) [0x00007FF63F43E67C]\n",
      "\t(No symbol) [0x00007FF63F479627]\n",
      "\t(No symbol) [0x00007FF63F45EAEF]\n",
      "\t(No symbol) [0x00007FF63F4775A2]\n",
      "\t(No symbol) [0x00007FF63F45E883]\n",
      "\t(No symbol) [0x00007FF63F433691]\n",
      "\t(No symbol) [0x00007FF63F4348D4]\n",
      "\tGetHandleVerifier [0x00007FF63F93B992+3610402]\n",
      "\tGetHandleVerifier [0x00007FF63F991860+3962352]\n",
      "\tGetHandleVerifier [0x00007FF63F989D4F+3930847]\n",
      "\tGetHandleVerifier [0x00007FF63F673646+693206]\n",
      "\t(No symbol) [0x00007FF63F551628]\n",
      "\t(No symbol) [0x00007FF63F54D934]\n",
      "\t(No symbol) [0x00007FF63F54DA62]\n",
      "\t(No symbol) [0x00007FF63F53E113]\n",
      "\tBaseThreadInitThunk [0x00007FFEF495257D+29]\n",
      "\tRtlUserThreadStart [0x00007FFEF5EEAA68+40]\n"
     ]
    }
   ],
   "source": [
    "driver.get('https://www.netshoes.com.br/busca?nsCat=Artificial&q=suplementos&searchTermCapitalized=Suplementos&page=1')\n",
    "print(driver.find_element(By.CLASS_NAME, 'ns-icon ns-icon-arrow-right last next').text)"
   ]
  },
  {
   "cell_type": "code",
   "execution_count": null,
   "metadata": {},
   "outputs": [
    {
     "data": {
      "text/plain": [
       "[]"
      ]
     },
     "metadata": {},
     "output_type": "display_data"
    }
   ],
   "source": [
    "y"
   ]
  },
  {
   "cell_type": "code",
   "execution_count": null,
   "metadata": {},
   "outputs": [
    {
     "name": "stdout",
     "output_type": "stream",
     "text": [
      "Anteriores <selenium.webdriver.remote.webelement.WebElement (session=\"c562683477cbfc6b147e8701d7e5718e\", element=\"B307A5B740A1D3AFCC005E11FBDDE0AF_element_2996\")>\n"
     ]
    }
   ],
   "source": [
    "F = driver.find_elements(By.XPATH,\n",
    "                        '//*[@id=\"item-list\"]/div[2]')\n",
    "\n",
    "for i in F:\n",
    "    print(i.find_element(By.TAG_NAME, 'a').text)"
   ]
  },
  {
   "cell_type": "code",
   "execution_count": null,
   "metadata": {},
   "outputs": [
    {
     "data": {
      "text/plain": [
       "['R$ 299,00\\nR$ 169,90\\nou 2x de R$ 84,95',\n",
       " 'R$ 129,90',\n",
       " 'R$ 279,90\\nR$ 99,90',\n",
       " 'R$ 74,90\\nR$ 58,64 à vista',\n",
       " 'R$ 24,46 à vista',\n",
       " 'R$ 45,87 à vista',\n",
       " 'R$ 22,93 à vista',\n",
       " 'R$ 24,46 à vista',\n",
       " 'R$ 199,90\\nR$ 143,91 à vista\\nou 2x de R$ 79,95',\n",
       " 'R$ 45,87 à vista',\n",
       " 'R$ 45,18\\nR$ 22,59',\n",
       " 'R$ 22,93 à vista',\n",
       " 'R$ 185,22\\nR$ 92,61',\n",
       " 'R$ 300,96\\nR$ 228,72 à vista\\nou 3x de R$ 80,25',\n",
       " 'R$ 75,42\\nR$ 37,71',\n",
       " 'R$ 300,96\\nR$ 228,72 à vista\\nou 3x de R$ 80,25',\n",
       " 'R$ 62,18\\nR$ 31,09',\n",
       " 'R$ 66,16\\nR$ 33,08',\n",
       " 'R$ 151,02\\nR$ 75,51',\n",
       " 'R$ 48,93 à vista',\n",
       " 'R$ 70,88\\nR$ 35,44',\n",
       " 'R$ 70,88\\nR$ 35,44',\n",
       " 'R$ 300,96\\nR$ 228,72 à vista\\nou 3x de R$ 80,25',\n",
       " 'R$ 22,93 à vista',\n",
       " 'R$ 48,93 à vista',\n",
       " 'R$ 45,87 à vista',\n",
       " 'R$ 114,67 à vista']"
      ]
     },
     "metadata": {},
     "output_type": "display_data"
    }
   ],
   "source": [
    "Lista"
   ]
  },
  {
   "cell_type": "code",
   "execution_count": null,
   "metadata": {},
   "outputs": [],
   "source": [
    "#headless\n",
    "#no sandbox"
   ]
  }
 ],
 "metadata": {
  "language_info": {
   "name": "python"
  },
  "orig_nbformat": 4
 },
 "nbformat": 4,
 "nbformat_minor": 2
}
