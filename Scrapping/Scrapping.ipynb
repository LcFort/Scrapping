{
 "cells": [
  {
   "cell_type": "code",
   "execution_count": null,
   "metadata": {},
   "outputs": [],
   "source": [
    "from selenium import webdriver\n",
    "from selenium.webdriver.common.by import By\n",
    "from selenium.webdriver.support.ui import Select\n",
    "from selenium.webdriver.common.keys import Keys\n",
    "from selenium.webdriver.support.wait import WebDriverWait\n",
    "from selenium.webdriver.support import expected_conditions as EC"
   ]
  },
  {
   "cell_type": "code",
   "execution_count": null,
   "metadata": {},
   "outputs": [],
   "source": [
    "driver = webdriver.Chrome()"
   ]
  },
  {
   "cell_type": "code",
   "execution_count": null,
   "metadata": {},
   "outputs": [],
   "source": [
    "link = 'https://www.netshoes.com.br/busca?nsCat=Artificial&q=suplementos&searchTermCapitalized=Suplementos'\n",
    "\n",
    "driver.get(link)"
   ]
  },
  {
   "cell_type": "code",
   "execution_count": null,
   "metadata": {},
   "outputs": [],
   "source": [
    "# driver.execute_script(\"window.scrollTo(0, document.body.scrollHeight);\")"
   ]
  },
  {
   "cell_type": "code",
   "execution_count": null,
   "metadata": {},
   "outputs": [],
   "source": [
    "# vezes = t/400\n",
    "# List = []\n",
    "# wait = WebDriverWait(driver, 10)\n",
    "# M=1\n",
    "\n",
    "# for i in range(int(vezes)):\n",
    "#     driver.execute_script(f\"window.scrollTo({400*i}, {400*(i+1)});\")\n",
    "#     for F in range(9):\n",
    "#         try:\n",
    "#             element = wait.until(EC.presence_of_element_located((By.XPATH, f'//*[@id=\"item-list\"]/div[1]/a[{M}]')))\n",
    "#             List.append(driver.find_element(By.XPATH, f'//*[@id=\"item-list\"]/div[1]/a[{M}]').text)\n",
    "#         except:\n",
    "#             print(f'vez {i} item {(F*(i+1))+1} '+'Verifique o resultado\\n\\n')\n",
    "                      \n",
    "#         M += 1\n",
    "        \n",
    "#         if M > Vezes[1]:\n",
    "#             break"
   ]
  },
  {
   "cell_type": "code",
   "execution_count": null,
   "metadata": {},
   "outputs": [],
   "source": [
    "try:\n",
    "    driver.get('https://www.netshoes.com.br/busca?nsCat=Artificial&q=suplementos&searchTermCapitalized=Suplementos&page=1')\n",
    "except:\n",
    "    pass\n",
    "\n",
    "t = driver.execute_script('''return document.body.scrollHeight''')\n",
    "vezes = int(t)/400\n",
    "List = []\n",
    "ListaF = []\n",
    "PgMAX = int(driver.find_element(By.XPATH, '//*[@id=\"item-list\"]/div[2]').find_element(By.CLASS_NAME, 'last').text)\n",
    "wait = WebDriverWait(driver, 10)\n",
    "\n",
    "\n",
    "\n",
    "for _ in range(PgMAX):\n",
    "    driver.get(f'https://www.netshoes.com.br/busca?nsCat=Artificial&q=suplementos&searchTermCapitalized=Suplementos&page={_+1}')\n",
    "    \n",
    "    for i in range(int(vezes)):\n",
    "        driver.execute_script(f\"window.scrollTo({400*i}, {400*(i+1)});\")\n",
    "        \n",
    "    element = wait.until(EC.presence_of_element_located((By.CLASS_NAME, 'item-card__description')))\n",
    "    elementos = driver.find_elements(By.CLASS_NAME, \"item-card__description\")\n",
    "    for i in elementos:\n",
    "        element = wait.until(EC.presence_of_element_located((By.CLASS_NAME, 'item-card__description')))\n",
    "        # x = i.find_element(By.CLASS_NAME, 'price__list').text\n",
    "        x = i.find_element(By.CLASS_NAME, 'haveInstallments').text\n",
    "        y = i.find_element(By.CLASS_NAME, 'item-card__description__product-name').text\n",
    "        if x != \"\":\n",
    "            List.append([_, y, x])\n",
    "        \n",
    "    # ProxPG = driver.find_element(By.XPATH,'//*[@id=\"item-list\"]/div[2]').find_element(By.CLASS_NAME, 'ns-icon ns-icon-arrow-right last next')\n",
    "    # ProxPG = driver.find_element(By.XPATH, '//*[@id=\"item-list\"]/div[2]/a[6]')\n",
    "    Atual = driver.find_element(By.CLASS_NAME, 'selected').text\n",
    "    # print(ProxPG.text, PgMAX, Atual.text)\n",
    "    print(Atual)\n",
    "    # //a[@class='ns-icon ns-icon-arrow-right last next'] \n",
    "    # //span[@class='full-mounted-price']\n",
    "\n"
   ]
  },
  {
   "cell_type": "code",
   "execution_count": null,
   "metadata": {},
   "outputs": [],
   "source": [
    "import pandas as pd\n",
    "pd.DataFrame(List).to_csv('Kind of Preços.csv')"
   ]
  },
  {
   "cell_type": "code",
   "execution_count": null,
   "metadata": {},
   "outputs": [],
   "source": [
    "#headless\n",
    "#no sandbox"
   ]
  }
 ],
 "metadata": {
  "kernelspec": {
   "display_name": "Python 3",
   "language": "python",
   "name": "python3"
  },
  "language_info": {
   "codemirror_mode": {
    "name": "ipython",
    "version": 3
   },
   "file_extension": ".py",
   "mimetype": "text/x-python",
   "name": "python",
   "nbconvert_exporter": "python",
   "pygments_lexer": "ipython3",
   "version": "3.11.3"
  },
  "orig_nbformat": 4
 },
 "nbformat": 4,
 "nbformat_minor": 2
}
